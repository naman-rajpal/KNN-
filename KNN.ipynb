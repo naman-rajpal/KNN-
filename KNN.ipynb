{
  "nbformat": 4,
  "nbformat_minor": 0,
  "metadata": {
    "colab": {
      "name": "KNN.ipynb",
      "provenance": []
    },
    "kernelspec": {
      "name": "python3",
      "display_name": "Python 3"
    }
  },
  "cells": [
    {
      "cell_type": "code",
      "metadata": {
        "id": "4HgH7ppr7gP8"
      },
      "source": [
        "import numpy as np\n",
        "from collections import Counter"
      ],
      "execution_count": null,
      "outputs": []
    },
    {
      "cell_type": "code",
      "metadata": {
        "id": "0jLSAtlt74H-"
      },
      "source": [
        "def euclidean_distance(x1,x2):\n",
        "    return np.sqrt(np.sum((x1-x2)**2))"
      ],
      "execution_count": null,
      "outputs": []
    },
    {
      "cell_type": "code",
      "metadata": {
        "id": "yAJU40w34wsP"
      },
      "source": [
        "class KNN :\n",
        "\n",
        "    def __init__(self,k=3):\n",
        "        self.k=k\n",
        "\n",
        "    def fit(self,X,y):\n",
        "        self.X_train=X\n",
        "        self.y_train=y\n",
        "\n",
        "    def predict(self,X):\n",
        "        predictions=[self._predict(x) for x in X]\n",
        "        return np.array(predictions)\n",
        "    def _predict(self,x):\n",
        "        distances=[euclidean_distance(x,X) for X in self.X_train]\n",
        "        k_indices=np.argsort(distances)[:self.k]\n",
        "        k_nearest_label=[self.y_train[i] for i in k_indices]\n",
        "        most_common=Counter(k_nearest_label).most_common(1)\n",
        "        return most_common[0][0]\n",
        "\n"
      ],
      "execution_count": null,
      "outputs": []
    },
    {
      "cell_type": "code",
      "metadata": {
        "colab": {
          "base_uri": "https://localhost:8080/"
        },
        "id": "vFGTL3gs9y_F",
        "outputId": "7950a285-569b-477b-933f-c8ccfdfc5e43"
      },
      "source": [
        "from sklearn import datasets\n",
        "from sklearn.model_selection import train_test_split\n",
        "\n",
        "iris=datasets.load_iris()\n",
        "X,y=iris.data,iris.target\n",
        "X_train,X_test,Y_train,Y_test=train_test_split(X,y,test_size=0.2,random_state=1234)\n",
        "\n",
        "clf=KNN(3)\n",
        "clf.fit(X_train,Y_train)\n",
        "prediction=clf.predict(X_test)\n",
        "print(prediction)\n",
        "acc=np.sum(prediction==Y_test)/len(Y_test)\n",
        "print(acc)"
      ],
      "execution_count": null,
      "outputs": [
        {
          "output_type": "stream",
          "text": [
            "[1 1 2 0 1 0 0 0 1 2 1 0 2 1 0 1 2 0 2 1 1 1 1 1 2 0 2 1 2 0]\n",
            "1.0\n"
          ],
          "name": "stdout"
        }
      ]
    }
  ]
}